{
 "cells": [
  {
   "cell_type": "code",
   "execution_count": 3,
   "id": "d3023e40",
   "metadata": {},
   "outputs": [],
   "source": [
    "import pandas as pd\n",
    "\n"
   ]
  },
  {
   "cell_type": "code",
   "execution_count": 4,
   "id": "4f979fe2",
   "metadata": {},
   "outputs": [
    {
     "name": "stdout",
     "output_type": "stream",
     "text": [
      "    ScientificName          Rank      UID  nPos   nNeg   nTot  \\\n",
      "0          Viruses  superkingdom    10239  6382  10201  16583   \n",
      "1        Riboviria         clade  2559587  4555   8544  13099   \n",
      "2     Pararnavirae       kingdom  2732397   410    188    598   \n",
      "3   Artverviricota        phylum  2732409   410    188    598   \n",
      "4  Revtraviricetes         class  2732514   410    188    598   \n",
      "\n",
      "                                                 IDs  \n",
      "0  11320,383586,387147,370128,387139,382832,39280...  \n",
      "1  11320,383586,387147,387139,382832,392809,38283...  \n",
      "2  11780,11908,2169971,10408,10407,35269,11676,11...  \n",
      "3  11780,11908,2169971,10408,10407,35269,11676,11...  \n",
      "4  11780,11908,2169971,10408,10407,35269,11676,11...  \n"
     ]
    }
   ],
   "source": [
    "# Load the taxonomy keys file\n",
    "taxonomy = pd.read_csv('taxonomy_keys_10239.csv')\n",
    "print(taxonomy.head())\n",
    "\n"
   ]
  },
  {
   "cell_type": "code",
   "execution_count": 5,
   "id": "a18f9a89",
   "metadata": {},
   "outputs": [],
   "source": [
    "# Filter rows related to \"Retroviridae\"\n",
    "retroviridae_rows = taxonomy[taxonomy['ScientificName'] == 'Retroviridae']"
   ]
  },
  {
   "cell_type": "code",
   "execution_count": 6,
   "id": "36ba7398",
   "metadata": {},
   "outputs": [
    {
     "data": {
      "text/plain": [
       "[11780,\n",
       " 11908,\n",
       " 2169971,\n",
       " 11676,\n",
       " 11864,\n",
       " 11701,\n",
       " 61673,\n",
       " 11661,\n",
       " 11660,\n",
       " 11901,\n",
       " 11674,\n",
       " 11926,\n",
       " 11909,\n",
       " 11927,\n",
       " 11665,\n",
       " 11671,\n",
       " 11795,\n",
       " 45409,\n",
       " 11764,\n",
       " 11812,\n",
       " 11696,\n",
       " 33747,\n",
       " 254355,\n",
       " 11743,\n",
       " 36374,\n",
       " 11942,\n",
       " 11824,\n",
       " 12750,\n",
       " 45617,\n",
       " 64382,\n",
       " 11706,\n",
       " 194959,\n",
       " 11691,\n",
       " 11698,\n",
       " 11678,\n",
       " 11709,\n",
       " 362651,\n",
       " 11790,\n",
       " 11662,\n",
       " 11688,\n",
       " 1401444,\n",
       " 53182,\n",
       " 11636,\n",
       " 11963,\n",
       " 11642,\n",
       " 221703,\n",
       " 2170197,\n",
       " 2170200,\n",
       " 2170206,\n",
       " 2170201,\n",
       " 338478]"
      ]
     },
     "execution_count": 6,
     "metadata": {},
     "output_type": "execute_result"
    }
   ],
   "source": [
    "# Extract all Retroviridae IDs from the last column, last row\n",
    "# Assuming that the IDs are in the last column and are comma-separated\n",
    "retroviridae_ids_str = retroviridae_rows.iloc[-1, -1]\n",
    "retroviridae_ids = [int(id_str) for id_str in retroviridae_ids_str.split(',')]\n",
    "retroviridae_ids"
   ]
  },
  {
   "cell_type": "code",
   "execution_count": 6,
   "id": "98388ad7",
   "metadata": {},
   "outputs": [
    {
     "name": "stderr",
     "output_type": "stream",
     "text": [
      "C:\\Users\\44776\\AppData\\Local\\Temp\\ipykernel_27312\\3649137402.py:2: DtypeWarning: Columns (2,5,6,7,8,9) have mixed types. Specify dtype option on import or set low_memory=False.\n",
      "  big_dataset = pd.read_csv('all_virus_LBCE_with_ESM1b_features.csv')\n"
     ]
    }
   ],
   "source": [
    "# Load the big dataset\n",
    "big_dataset = pd.read_csv('all_virus_LBCE_with_ESM1b_features.csv')"
   ]
  },
  {
   "cell_type": "code",
   "execution_count": 9,
   "id": "196abc4e",
   "metadata": {},
   "outputs": [
    {
     "name": "stdout",
     "output_type": "stream",
     "text": [
      "   Info_PepID  Info_organism_id Info_protein_id  Info_pos Info_AA  \\\n",
      "0  0704243A:2             11320        0704243A        46       S   \n",
      "1  0704243A:2             11320        0704243A        47       S   \n",
      "2  0704243A:2             11320        0704243A        48       T   \n",
      "3  0704243A:2             11320        0704243A        49       G   \n",
      "4  0704243A:2             11320        0704243A        50       K   \n",
      "\n",
      "  Info_pubmed_id Info_epitope_id Info_host_id Info_nPos Info_nNeg  ...  \\\n",
      "0        2579329           61385     10000206         0         2  ...   \n",
      "1        2579329           61385     10000206         0         2  ...   \n",
      "2        2579329           61385     10000206         0         2  ...   \n",
      "3        2579329           61385     10000206         0         2  ...   \n",
      "4        2579329           61385     10000206         0         2  ...   \n",
      "\n",
      "  feat_esm1b_1270 feat_esm1b_1271  feat_esm1b_1272  feat_esm1b_1273  \\\n",
      "0        0.074220       -0.306854        -0.046597         0.096433   \n",
      "1        0.014104       -0.215472        -0.107374         0.239241   \n",
      "2        0.218574       -0.124948         0.082776         0.201489   \n",
      "3        0.200644       -0.233248         0.010473         0.070615   \n",
      "4        0.103338       -0.239433         0.117235        -0.019795   \n",
      "\n",
      "   feat_esm1b_1274  feat_esm1b_1275  feat_esm1b_1276  feat_esm1b_1277  \\\n",
      "0        -1.108830        -0.199020         0.281864         0.003761   \n",
      "1        -1.127827        -0.281195         0.344047         0.069742   \n",
      "2        -0.840510        -0.307259         0.154050         0.100896   \n",
      "3        -0.804467        -0.219895         0.311264         0.220049   \n",
      "4        -1.173937        -0.133920         0.014691         0.156032   \n",
      "\n",
      "   feat_esm1b_1278  feat_esm1b_1279  \n",
      "0         0.277273         0.178494  \n",
      "1         0.269180         0.259537  \n",
      "2         0.307250         0.520543  \n",
      "3         0.131534         0.247521  \n",
      "4         0.260330         0.197664  \n",
      "\n",
      "[5 rows x 1294 columns]\n"
     ]
    }
   ],
   "source": [
    "print(big_dataset.head())"
   ]
  },
  {
   "cell_type": "code",
   "execution_count": 11,
   "id": "18ae19aa",
   "metadata": {},
   "outputs": [],
   "source": [
    "# Filter rows in big_dataset that have Retroviridae IDs\n",
    "retroviridae_data = big_dataset[big_dataset['Info_organism_id'].isin(retroviridae_ids)]"
   ]
  },
  {
   "cell_type": "code",
   "execution_count": 12,
   "id": "e80f5a05",
   "metadata": {},
   "outputs": [
    {
     "name": "stdout",
     "output_type": "stream",
     "text": [
      "     Info_PepID  Info_organism_id Info_protein_id  Info_pos Info_AA  \\\n",
      "765  P00543.1:2             11780        P00543.1       396       S   \n",
      "766  P00543.1:2             11780        P00543.1       397       D   \n",
      "767  P00543.1:2             11780        P00543.1       398       V   \n",
      "768  P00543.1:2             11780        P00543.1       399       W   \n",
      "769  P00543.1:2             11780        P00543.1       400       S   \n",
      "\n",
      "    Info_pubmed_id Info_epitope_id Info_host_id Info_nPos Info_nNeg  ...  \\\n",
      "765        6192445           57312     10000248         1         0  ...   \n",
      "766        6192445           57312     10000248         1         0  ...   \n",
      "767        6192445           57312     10000248         1         0  ...   \n",
      "768        6192445           57312     10000248         1         0  ...   \n",
      "769        6192445           57312     10000248         1         0  ...   \n",
      "\n",
      "    feat_esm1b_1270 feat_esm1b_1271  feat_esm1b_1272  feat_esm1b_1273  \\\n",
      "765        0.908462        0.044930        -0.014532        -0.526723   \n",
      "766        1.209393       -0.145755        -0.882822         0.227110   \n",
      "767        0.406053       -0.034903        -0.461123        -0.260660   \n",
      "768        0.110578        0.068691        -0.208388        -0.099980   \n",
      "769        0.244739       -0.394274        -0.373290         0.032156   \n",
      "\n",
      "     feat_esm1b_1274  feat_esm1b_1275  feat_esm1b_1276  feat_esm1b_1277  \\\n",
      "765         0.422984        -0.052677        -0.179720        -0.304180   \n",
      "766        -0.370590        -0.110568         0.560650        -0.250808   \n",
      "767         0.596973        -0.285025         0.432733        -0.172914   \n",
      "768         0.579745         0.199031         0.362394         0.101919   \n",
      "769        -0.031566        -0.185957         0.127049        -0.052183   \n",
      "\n",
      "     feat_esm1b_1278  feat_esm1b_1279  \n",
      "765        -0.115948        -0.698409  \n",
      "766         0.011788        -0.386426  \n",
      "767        -0.677514        -0.364373  \n",
      "768        -0.537789         0.023459  \n",
      "769        -0.214903        -0.289141  \n",
      "\n",
      "[5 rows x 1294 columns]\n"
     ]
    }
   ],
   "source": [
    "print(retroviridae_data.head())"
   ]
  },
  {
   "cell_type": "code",
   "execution_count": 13,
   "id": "a0076dd0",
   "metadata": {},
   "outputs": [],
   "source": [
    "# Save this data to a new file\n",
    "retroviridae_data.to_csv('retroviridae_data.csv', index=False)\n"
   ]
  },
  {
   "cell_type": "code",
   "execution_count": null,
   "id": "5376f79f",
   "metadata": {},
   "outputs": [],
   "source": []
  }
 ],
 "metadata": {
  "kernelspec": {
   "display_name": "Python 3 (ipykernel)",
   "language": "python",
   "name": "python3"
  },
  "language_info": {
   "codemirror_mode": {
    "name": "ipython",
    "version": 3
   },
   "file_extension": ".py",
   "mimetype": "text/x-python",
   "name": "python",
   "nbconvert_exporter": "python",
   "pygments_lexer": "ipython3",
   "version": "3.9.13"
  }
 },
 "nbformat": 4,
 "nbformat_minor": 5
}
